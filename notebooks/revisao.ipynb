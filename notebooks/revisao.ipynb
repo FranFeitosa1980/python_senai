{
 "cells": [
  {
   "cell_type": "markdown",
   "metadata": {},
   "source": [
    "# Relembrando variaveis \n",
    "\n",
    "tipos: \n",
    "    - int()\n",
    "    - str()\n",
    "    -float()\n",
    "    -bool()\n",
    "    - list()\n",
    "    -tuple()\n",
    "    -dict()"
   ]
  },
  {
   "cell_type": "code",
   "execution_count": 2,
   "metadata": {},
   "outputs": [],
   "source": [
    "numero = 1\n",
    "nome = 'Francineide'\n",
    "numero_decimal = 10.9\n",
    "sera = True\n",
    "frutas = ('pera', 'morango', 'uva')\n",
    "carros = ('gol', 'uno', 'fusca')\n",
    "pessoa = {'nome': 'Francineide', 'idade': '44', 'altura': 1.59}"
   ]
  },
  {
   "cell_type": "markdown",
   "metadata": {},
   "source": [
    "# Condicionais \n",
    "\n",
    "- if\n",
    "- match case "
   ]
  },
  {
   "cell_type": "code",
   "execution_count": 13,
   "metadata": {},
   "outputs": [
    {
     "name": "stdout",
     "output_type": "stream",
     "text": [
      "O nome está correto\n"
     ]
    }
   ],
   "source": [
    "if nome == 'Francineide':\n",
    "    print('O nome está correto')\n",
    "else: \n",
    "    print('O nome na variavel não é Francineide ')"
   ]
  },
  {
   "cell_type": "code",
   "execution_count": 7,
   "metadata": {},
   "outputs": [
    {
     "name": "stdout",
     "output_type": "stream",
     "text": [
      "opção 1\n"
     ]
    }
   ],
   "source": [
    "match numero: \n",
    "    case 1: \n",
    "        print('opção 1')\n",
    "    case 2: \n",
    "        print('opção 2')\n",
    "    case 3: \n",
    "        print('opção 3')\n",
    "    case 4: \n",
    "        print('opção 4')\n",
    "    case _: \n",
    "        print('opção invalida')\n",
    "   "
   ]
  },
  {
   "cell_type": "markdown",
   "metadata": {},
   "source": [
    "# Laços de Repetição\n",
    "\n",
    " - for \n",
    " - while"
   ]
  },
  {
   "cell_type": "code",
   "execution_count": null,
   "metadata": {},
   "outputs": [],
   "source": [
    "for i in range(5):\n",
    "    print(f'O numero é: {numero} ')"
   ]
  },
  {
   "cell_type": "code",
   "execution_count": null,
   "metadata": {},
   "outputs": [],
   "source": [
    "while contador <= 5:\n",
    "    print('O contador é: {contador}')\n",
    "    contador += 1"
   ]
  },
  {
   "cell_type": "markdown",
   "metadata": {},
   "source": [
    "# Metodos de String\n",
    "\n",
    "- update\n",
    "- lopwer\n",
    "- capitalize\n",
    "- slip\n",
    "- strip\n",
    "- slice\n",
    "- replace \n",
    "- join"
   ]
  },
  {
   "cell_type": "code",
   "execution_count": 15,
   "metadata": {},
   "outputs": [
    {
     "name": "stdout",
     "output_type": "stream",
     "text": [
      "francineide ribeiro feitosa\n",
      "Francineide ribeiro feitosa\n",
      "FRANCINEIDE RIBEIRO FEITOSA\n",
      "Francineide Ribeiro Feitosa\n",
      "Francineide Feitosa Feitosa\n",
      "['Francineide', 'Ribeiro', 'Feitosa']\n",
      "FrancineideFrancineide Ribeiro FeitosaSter\n",
      "ide R\n"
     ]
    }
   ],
   "source": [
    "aluno = 'Francineide Ribeiro Feitosa'\n",
    "alunos = ['Francineide', 'Ster']\n",
    "\n",
    "print(aluno. lower()) # deixa minusculo\n",
    "print(aluno.capitalize()) # deixa primeira letra mauiscula\n",
    "print(aluno.upper()) # deixa mauiscula\n",
    "print(aluno.strip()) # remove espaços\n",
    "print(aluno.replace('Ribeiro', 'Feitosa')) # substitui uma sequencia de caracter por outra\n",
    "print(aluno.split()) # cria uma lista com as palavras encontradas da string\n",
    "print(aluno.join(alunos)) # transforma uma lista em uma string com o caracter desejado de separador \n",
    "print(aluno[8:13]) # corta a string no intervalo de caracteres fornecidos "
   ]
  },
  {
   "cell_type": "markdown",
   "metadata": {},
   "source": [
    "# Metodos de lista\n",
    "\n",
    "- append\n",
    "- extend\n",
    "- insert\n",
    "- remove\n",
    "- pop\n",
    "- index \n",
    "- del \n",
    "- sort \n",
    "- reverse\n"
   ]
  },
  {
   "cell_type": "code",
   "execution_count": 12,
   "metadata": {},
   "outputs": [
    {
     "name": "stdout",
     "output_type": "stream",
     "text": [
      "['notebook', 'smartphone', 'smart tv', 'fliperama']\n",
      "['notebook', 'smartphone', 'smart tv', 'fliperama', 'sofa', 'mesa', 'puff']\n",
      "['notebook', 'smartphone', 'smart tv', 'playstation 5', 'fliperama', 'sofa', 'mesa', 'puff']\n",
      "['notebook', 'smartphone', 'smart tv', 'playstation 5', 'fliperama', 'sofa', 'mesa']\n",
      "['notebook', 'smart tv', 'playstation 5', 'fliperama', 'sofa', 'mesa']\n",
      "['notebook', 'playstation 5', 'fliperama', 'sofa', 'mesa']\n",
      "['notebook', 'playstation 5', 'fliperama', 'sofa', 'mesa']\n",
      "['fliperama', 'mesa', 'notebook', 'playstation 5', 'sofa']\n",
      "['sofa', 'playstation 5', 'notebook', 'mesa', 'fliperama']\n"
     ]
    }
   ],
   "source": [
    "produtos = ['notebook', 'smartphone', 'smart tv']\n",
    "\n",
    "produtos.append('fliperama') # adiciona um elemento no final da lista\n",
    "print(produtos)\n",
    "produtos.extend(['sofa', 'mesa', 'puff']) # incrementa a lista com outra lista\n",
    "print(produtos)\n",
    "produtos.insert(3, 'playstation 5') # aciona um elemento em uma posição especifica\n",
    "print(produtos)\n",
    "produtos.pop() # remove o ultimo elemento da lista \n",
    "print(produtos)\n",
    "produtos.pop(1) # remove um elemento especifico da lista \n",
    "print(produtos)\n",
    "produtos.remove('smart tv') # remove a primeira ocorrencoa encontrada na lista \n",
    "print(produtos)\n",
    "produtos.index('notebook') # retorna o indice da primeira ocorrencia encontrada\n",
    "print(produtos)\n",
    "produtos.sort() # organiza em ordem crescente a lista \n",
    "print(produtos)\n",
    "produtos.reverse() # inverte a lista de tras para frente\n",
    "print(produtos)"
   ]
  },
  {
   "cell_type": "markdown",
   "metadata": {},
   "source": [
    "# Funções \n",
    "\n",
    "São objetos capazes de armazenar um bloco de codigo e depois podem ser reaproveitados em outro momento do codigo, somente chamando pelo seu nome. \n",
    "\n",
    "Tipos\n",
    "\n",
    "- função sem retorno\n",
    "- função com retorno \n",
    "- função com parametros \n",
    "- função sem parametros\n",
    "- função lammbda \n",
    "- função com nultiplos parametros \n",
    "  - parametros posicionais \n",
    "  - parametros nomeados \n",
    "- funções recursivas "
   ]
  },
  {
   "cell_type": "code",
   "execution_count": 16,
   "metadata": {},
   "outputs": [],
   "source": [
    "# Função sem retorno \n",
    "def saudacao ():\n",
    "    print('Hello World!')"
   ]
  },
  {
   "cell_type": "code",
   "execution_count": 17,
   "metadata": {},
   "outputs": [
    {
     "name": "stdout",
     "output_type": "stream",
     "text": [
      "Hello World!\n"
     ]
    }
   ],
   "source": [
    "saudacao()"
   ]
  },
  {
   "cell_type": "code",
   "execution_count": 18,
   "metadata": {},
   "outputs": [],
   "source": [
    "# Função com retorno \n",
    "\n",
    "def somar ():\n",
    "    soma = 10+25\n",
    "    return soma "
   ]
  },
  {
   "cell_type": "code",
   "execution_count": 20,
   "metadata": {},
   "outputs": [
    {
     "name": "stdout",
     "output_type": "stream",
     "text": [
      "35\n"
     ]
    }
   ],
   "source": [
    "print(somar())"
   ]
  },
  {
   "cell_type": "code",
   "execution_count": 27,
   "metadata": {},
   "outputs": [],
   "source": [
    "# com parametros \n",
    "\n",
    "def somar2(numero1, numero2):\n",
    "    soma = numero1 + numero2 \n",
    "    return soma"
   ]
  },
  {
   "cell_type": "code",
   "execution_count": 28,
   "metadata": {},
   "outputs": [
    {
     "data": {
      "text/plain": [
       "13"
      ]
     },
     "execution_count": 28,
     "metadata": {},
     "output_type": "execute_result"
    }
   ],
   "source": [
    "somar2 (5, 8)"
   ]
  },
  {
   "cell_type": "code",
   "execution_count": 29,
   "metadata": {},
   "outputs": [],
   "source": [
    "# função lambda \n",
    "\n",
    "soma_lambda = lambda numero1, numero2: numero1 + numero2 "
   ]
  },
  {
   "cell_type": "code",
   "execution_count": 30,
   "metadata": {},
   "outputs": [
    {
     "data": {
      "text/plain": [
       "178"
      ]
     },
     "execution_count": 30,
     "metadata": {},
     "output_type": "execute_result"
    }
   ],
   "source": [
    "soma_lambda(78,100)"
   ]
  },
  {
   "cell_type": "code",
   "execution_count": 36,
   "metadata": {},
   "outputs": [],
   "source": [
    "# Função com multiplos parametros(argumentos) posicionais \n",
    "\n",
    "def somar3 (*numero):\n",
    "    resultado = sum(numero)\n",
    "    return resultado\n"
   ]
  },
  {
   "cell_type": "code",
   "execution_count": 37,
   "metadata": {},
   "outputs": [
    {
     "data": {
      "text/plain": [
       "101"
      ]
     },
     "execution_count": 37,
     "metadata": {},
     "output_type": "execute_result"
    }
   ],
   "source": [
    "somar3 (1, 12, 25, 26, 27, 10)\n"
   ]
  },
  {
   "cell_type": "code",
   "execution_count": 38,
   "metadata": {},
   "outputs": [],
   "source": [
    "# Função multiplos parametros nomeados \n",
    "\n",
    "def gerar_produto(**parametros):\n",
    "    produto = parametros \n",
    "    return produto"
   ]
  },
  {
   "cell_type": "code",
   "execution_count": 40,
   "metadata": {},
   "outputs": [
    {
     "data": {
      "text/plain": [
       "{'nome': 'notebook', 'preco': 3000.0, 'fabricante': 'samsung'}"
      ]
     },
     "execution_count": 40,
     "metadata": {},
     "output_type": "execute_result"
    }
   ],
   "source": [
    "gerar_produto(nome='notebook', preco=3000.00 , fabricante= 'samsung')"
   ]
  },
  {
   "cell_type": "code",
   "execution_count": 41,
   "metadata": {},
   "outputs": [],
   "source": [
    "# funções fatorial convencional  \n",
    "\n",
    "def calcula_fatorial (numero):\n",
    "    resultado = 1\n",
    "    for i in range(1, numero+1):\n",
    "        resultado *= i\n",
    "    return resultado \n"
   ]
  },
  {
   "cell_type": "code",
   "execution_count": 42,
   "metadata": {},
   "outputs": [
    {
     "data": {
      "text/plain": [
       "120"
      ]
     },
     "execution_count": 42,
     "metadata": {},
     "output_type": "execute_result"
    }
   ],
   "source": [
    "calcula_fatorial(5)"
   ]
  },
  {
   "cell_type": "code",
   "execution_count": null,
   "metadata": {},
   "outputs": [],
   "source": [
    "digito = 1\n",
    "\n",
    "digito = digito + 1\n",
    "\n",
    "digito += 1"
   ]
  },
  {
   "cell_type": "code",
   "execution_count": 45,
   "metadata": {},
   "outputs": [],
   "source": [
    "def calcula_fatorial2(numero):\n",
    "    if numero == 0 or numero == 1:\n",
    "        return 1\n",
    "    else:\n",
    "        return numero * calcula_fatorial2(numero-1)"
   ]
  },
  {
   "cell_type": "code",
   "execution_count": 46,
   "metadata": {},
   "outputs": [
    {
     "name": "stdout",
     "output_type": "stream",
     "text": [
      "120\n"
     ]
    }
   ],
   "source": [
    "print(calcula_fatorial2(5))"
   ]
  }
 ],
 "metadata": {
  "interpreter": {
   "hash": "877c9e4b317a0e45a96f19cf32a6d9fae9646e0329cad535504946b92be82226"
  },
  "kernelspec": {
   "display_name": "Python 3.12.5 64-bit (windows store)",
   "language": "python",
   "name": "python3"
  },
  "language_info": {
   "codemirror_mode": {
    "name": "ipython",
    "version": 3
   },
   "file_extension": ".py",
   "mimetype": "text/x-python",
   "name": "python",
   "nbconvert_exporter": "python",
   "pygments_lexer": "ipython3",
   "version": "3.12.5"
  },
  "orig_nbformat": 4
 },
 "nbformat": 4,
 "nbformat_minor": 2
}

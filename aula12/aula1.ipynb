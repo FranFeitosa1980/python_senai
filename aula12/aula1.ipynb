{
 "cells": [
  {
   "cell_type": "markdown",
   "metadata": {},
   "source": [
    "# Dicionário \n",
    "\n",
    "É um conjunto de chaves e valores que distinguem um objeto. Estas chaves nós chamamos de KEYS e  seus valores de VALUES. É um tipo especial de variável python identificada pelas {}"
   ]
  },
  {
   "cell_type": "code",
   "execution_count": 23,
   "metadata": {},
   "outputs": [
    {
     "name": "stdout",
     "output_type": "stream",
     "text": [
      "{'nome': 'Francineide', 'idade': 44, 'cidade': 'Fortaleza'}\n"
     ]
    }
   ],
   "source": [
    "pessoa = {\n",
    "    'nome': 'Francineide', \n",
    "    'idade': 44 , \n",
    "    'cidade': 'Fortaleza'\n",
    "\n",
    "}\n",
    "\n",
    "print(pessoa)"
   ]
  },
  {
   "cell_type": "code",
   "execution_count": 24,
   "metadata": {},
   "outputs": [
    {
     "name": "stdout",
     "output_type": "stream",
     "text": [
      "dict_keys(['nome', 'idade', 'cidade'])\n",
      "dict_values(['Francineide', 44, 'Fortaleza'])\n"
     ]
    }
   ],
   "source": [
    "# Método KEYS ()\n",
    "\n",
    "print(pessoa.keys())\n",
    "\n",
    "# Método VALUES\n",
    "\n",
    "print(pessoa.values())"
   ]
  },
  {
   "cell_type": "code",
   "execution_count": 25,
   "metadata": {},
   "outputs": [
    {
     "data": {
      "text/plain": [
       "'Francineide'"
      ]
     },
     "execution_count": 25,
     "metadata": {},
     "output_type": "execute_result"
    }
   ],
   "source": [
    "# Olhando valores específicos de um dicionario \n",
    "\n",
    "pessoa['nome']"
   ]
  },
  {
   "cell_type": "code",
   "execution_count": 26,
   "metadata": {},
   "outputs": [
    {
     "name": "stdout",
     "output_type": "stream",
     "text": [
      "{'nome': 'Francineide', 'idade': 44, 'cidade': 'Fortaleza'}\n",
      "{'nome': 'Francineide', 'idade': 44, 'cidade': 'Brasilia'}\n"
     ]
    }
   ],
   "source": [
    "# Mudando os valores de uma chave \n",
    "\n",
    "print(pessoa)\n",
    "pessoa['cidade']= 'Brasilia'\n",
    "print(pessoa)"
   ]
  },
  {
   "cell_type": "code",
   "execution_count": 27,
   "metadata": {},
   "outputs": [
    {
     "name": "stdout",
     "output_type": "stream",
     "text": [
      "{'nome': 'Francineide', 'idade': 44, 'cidade': 'Brasilia', 'email': 'francineide@teste.com'}\n"
     ]
    }
   ],
   "source": [
    "# Adicionando nova chave no dicionario \n",
    "\n",
    "pessoa['email'] = 'francineide@teste.com'\n",
    "print(pessoa) "
   ]
  },
  {
   "cell_type": "code",
   "execution_count": 28,
   "metadata": {},
   "outputs": [
    {
     "name": "stdout",
     "output_type": "stream",
     "text": [
      "{'nome': 'Francineide', 'email': 'francineide@teste.com'}\n"
     ]
    }
   ],
   "source": [
    "# Excluindo a chave e seu valor de um dicionario \n",
    "\n",
    "del pessoa['idade']\n",
    "pessoa.pop('cidade')\n",
    "\n",
    "print(pessoa)"
   ]
  },
  {
   "cell_type": "code",
   "execution_count": 40,
   "metadata": {},
   "outputs": [
    {
     "name": "stdout",
     "output_type": "stream",
     "text": [
      "[{'nome': 'Daniel', 'cidade': 'Aguas Claras'}, {'nome': 'Marcos', 'cidade': 'Recanto'}, {'nome': 'Luana', 'cidade': 'Brasilia'}, {'nome': 'Francineide', 'cidade': 'Ceilandia'}]\n",
      "0 {'nome': 'Daniel', 'cidade': 'Aguas Claras'}\n",
      "1 {'nome': 'Marcos', 'cidade': 'Recanto'}\n",
      "2 {'nome': 'Luana', 'cidade': 'Brasilia'}\n",
      "3 {'nome': 'Francineide', 'cidade': 'Ceilandia'}\n"
     ]
    }
   ],
   "source": [
    "# Percorrendo lista e printanso cada dicionario\n",
    "\n",
    "alunos = [\n",
    "    {'nome':'Daniel', 'cidade': 'Aguas Claras'},\n",
    "    {'nome':'Marcos', 'cidade': 'Recanto'},\n",
    "    {'nome':'Luana','cidade': 'Brasilia'},\n",
    "    {'nome':'Francineide', 'cidade': 'Ceilandia'}\n",
    "] \n",
    "\n",
    "print(alunos)\n",
    "\n",
    "for indice, aluno in enumerate (alunos):\n",
    "    print(indice, aluno)\n",
    "\n"
   ]
  },
  {
   "cell_type": "code",
   "execution_count": 43,
   "metadata": {},
   "outputs": [
    {
     "name": "stdout",
     "output_type": "stream",
     "text": [
      "{'nome': 'Luana', 'cidade': 'Brasilia'}\n",
      "Samambaia\n"
     ]
    }
   ],
   "source": [
    "print(alunos[2])\n",
    "\n",
    "alunos[2]['cidade'] = 'Samambaia' \n",
    "print(alunos[2]['cidade']) "
   ]
  },
  {
   "cell_type": "code",
   "execution_count": 44,
   "metadata": {},
   "outputs": [
    {
     "name": "stdout",
     "output_type": "stream",
     "text": [
      "{'Daniel': {'matricula': '1234', 'escolaridade': 'superior'}, 'Luana': {'matricula': '5678', 'escolaridade': 'superior'}, 'Gilmar': {'matricula': '4321', 'escolaridade': 'superior'}, 'Felipe': {'matricula': '9874', 'escolaridade': 'medio'}}\n"
     ]
    }
   ],
   "source": [
    "alunos_dicionario = {\n",
    "    'Daniel': {'matricula':'1234', 'escolaridade': 'superior'}, \n",
    "    'Luana': {'matricula':'5678', 'escolaridade': 'superior'}, \n",
    "    'Gilmar': {'matricula':'4321', 'escolaridade': 'superior'},\n",
    "    'Felipe': {'matricula':'9874', 'escolaridade': 'medio'},\n",
    "}\n",
    "\n",
    "print (alunos_dicionario)"
   ]
  },
  {
   "cell_type": "code",
   "execution_count": 45,
   "metadata": {},
   "outputs": [
    {
     "name": "stdout",
     "output_type": "stream",
     "text": [
      "{'matricula': '9874', 'escolaridade': 'medio'}\n"
     ]
    }
   ],
   "source": [
    "print(alunos_dicionario['Felipe'])"
   ]
  },
  {
   "cell_type": "code",
   "execution_count": 46,
   "metadata": {},
   "outputs": [
    {
     "name": "stdout",
     "output_type": "stream",
     "text": [
      "medio\n"
     ]
    }
   ],
   "source": [
    "print(alunos_dicionario['Felipe']['escolaridade'])"
   ]
  }
 ],
 "metadata": {
  "interpreter": {
   "hash": "023695796a0456db28915f727eb64cb942055160ea749933aa044f2070f70f3a"
  },
  "kernelspec": {
   "display_name": "Python 3.12.5 64-bit (windows store)",
   "language": "python",
   "name": "python3"
  },
  "language_info": {
   "codemirror_mode": {
    "name": "ipython",
    "version": 3
   },
   "file_extension": ".py",
   "mimetype": "text/x-python",
   "name": "python",
   "nbconvert_exporter": "python",
   "pygments_lexer": "ipython3",
   "version": "3.12.5"
  },
  "orig_nbformat": 4
 },
 "nbformat": 4,
 "nbformat_minor": 2
}
